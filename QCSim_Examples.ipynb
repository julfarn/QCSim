{
 "cells": [
  {
   "cell_type": "markdown",
   "id": "40d9f6db",
   "metadata": {},
   "source": [
    "## Examples for simple Quantum Circuits"
   ]
  },
  {
   "cell_type": "markdown",
   "id": "b7b866ab",
   "metadata": {},
   "source": [
    "We need the QCSim backend."
   ]
  },
  {
   "cell_type": "code",
   "execution_count": 1,
   "id": "ca6620eb",
   "metadata": {},
   "outputs": [],
   "source": [
    "%run QCSim_Backend.ipynb"
   ]
  },
  {
   "cell_type": "markdown",
   "id": "f9118fe6",
   "metadata": {},
   "source": [
    "As a first step, we take a close look at how the ground state $\\left\\lvert 0 \\right \\rangle$ of a single qubit is encoded. Since QCSim uses density operators, this is a 2x2-matrix."
   ]
  },
  {
   "cell_type": "code",
   "execution_count": 2,
   "id": "64049af2",
   "metadata": {},
   "outputs": [
    {
     "data": {
      "text/plain": [
       "array([[1., 0.],\n",
       "       [0., 0.]])"
      ]
     },
     "execution_count": 2,
     "metadata": {},
     "output_type": "execute_result"
    }
   ],
   "source": [
    "DOp.GroundState(1)"
   ]
  },
  {
   "cell_type": "markdown",
   "id": "e286c9c2",
   "metadata": {},
   "source": [
    "As expected, this matrix is the orthogonal projection onto the subspace $\\mathbb{C} \\left\\lvert 0 \\right \\rangle$ of the 2-dimensional 1-qubit Hilbert space $\\mathbb{H} = \\mathrm{span}\\left\\{ \\left\\lvert 0 \\right \\rangle, \\left\\lvert 1 \\right \\rangle \\right\\}$.\n",
    "\n",
    "We can always calculate the probability to measure a given qubit in a multi-qubit system in a given state. Of course, the probability to measure the state $\\left\\lvert 0 \\right \\rangle$ in the state $\\left\\lvert 1 \\right \\rangle$ is zero:"
   ]
  },
  {
   "cell_type": "code",
   "execution_count": 3,
   "id": "72bda8d6",
   "metadata": {},
   "outputs": [
    {
     "data": {
      "text/plain": [
       "0.0"
      ]
     },
     "execution_count": 3,
     "metadata": {},
     "output_type": "execute_result"
    }
   ],
   "source": [
    "DOp.MeasureProb(DOp.GroundState(1), 0, 1)"
   ]
  },
  {
   "cell_type": "markdown",
   "id": "9eb5cb45",
   "metadata": {},
   "source": [
    "#### Circuits\n",
    "Quantum circuits are commonly represented by diagrams, which are read from left to right. Here, the reading direction is from top to bottom.\n",
    "The diagrams are drawn as ASCII-pictures. For example, a single vertical line (\"|\") stands for the identity gate on a single qubit system."
   ]
  },
  {
   "cell_type": "code",
   "execution_count": 4,
   "id": "e4d929a8",
   "metadata": {},
   "outputs": [],
   "source": [
    "circuit = QCirc.FromString(\"\"\"\n",
    "|\n",
    "\"\"\")"
   ]
  },
  {
   "cell_type": "markdown",
   "id": "ad41dc23",
   "metadata": {},
   "source": [
    "Circuits, once defined in terms of a diagram, can be simulated. For this, an initial state has to be specified: In most cases, this will be the ground state."
   ]
  },
  {
   "cell_type": "code",
   "execution_count": 5,
   "id": "61358a13",
   "metadata": {},
   "outputs": [
    {
     "data": {
      "text/plain": [
       "[(1.0,\n",
       "  array([[1.+0.j, 0.+0.j],\n",
       "         [0.+0.j, 0.+0.j]]))]"
      ]
     },
     "execution_count": 5,
     "metadata": {},
     "output_type": "execute_result"
    }
   ],
   "source": [
    "resultStack = circuit.simulate(DOp.GroundState(1))\n",
    "resultStack"
   ]
  },
  {
   "cell_type": "markdown",
   "id": "30841d54",
   "metadata": {},
   "source": [
    "The output of the simulation is a so-called <i>stack</i> of density operators. This is a list of pairs $(p,\\Phi)$, where $p$ is the probability that the system after the simulation is in the state defined by the density operator $\\Phi$.\n",
    "In our case, the stack has only one entry, which means that after the simulation, the probability to still find the system in the ground state is 1.\n",
    "\n",
    "To obtain a single density operator, we can always <i>meld</i> a stack. The result is a weighted sum of the members of the stack.\n",
    "In our case, the function DOp.MeldStack returns the density operator $$\\mathrm{meldOp} = \\left(\\begin{array} 11 & 0 \\\\ 0 & 0 \\end{array}\\right),$$ which we know corresponds to the state $\\left\\lvert 0 \\right\\rangle$. Accordingly, the probability to measure this system in the state $\\left\\lvert 1 \\right\\rangle$ is zero:"
   ]
  },
  {
   "cell_type": "code",
   "execution_count": 6,
   "id": "16f45cb5",
   "metadata": {},
   "outputs": [
    {
     "data": {
      "text/plain": [
       "0.0"
      ]
     },
     "execution_count": 6,
     "metadata": {},
     "output_type": "execute_result"
    }
   ],
   "source": [
    "meldOp = DOp.MeldStack(resultStack)\n",
    "DOp.MeasureProb(meldOp, 0, 1)"
   ]
  },
  {
   "cell_type": "markdown",
   "id": "cf89151a",
   "metadata": {},
   "source": [
    "The next simplest circuit consists of a single $X$-gate (or \"NOT-gate\"), which inverts a qubit. \n",
    "In this circuit, we start from the ground state $\\left\\lvert 0 \\right\\rangle$, and find the system after the simulation in the state $\\left\\lvert 1 \\right\\rangle$ with probability 1."
   ]
  },
  {
   "cell_type": "code",
   "execution_count": 7,
   "id": "b574b489",
   "metadata": {},
   "outputs": [
    {
     "data": {
      "text/plain": [
       "1.0"
      ]
     },
     "execution_count": 7,
     "metadata": {},
     "output_type": "execute_result"
    }
   ],
   "source": [
    "circ_invert = QCirc.FromString(\"\"\"\n",
    "|\n",
    "X\n",
    "|\n",
    "\"\"\")\n",
    "\n",
    "result_inv = DOp.MeldStack(circ_invert.simulate(DOp.GroundState(1)))\n",
    "DOp.MeasureProb(result_inv, 0, 1)"
   ]
  },
  {
   "cell_type": "markdown",
   "id": "4d601e4c",
   "metadata": {},
   "source": [
    "Yet another example of a single-gate one-qubit circuit is given by the Hadamard gate. \n",
    "After running the simulation, we may measure the system in either states $\\left\\lvert 0 \\right\\rangle$ or $\\left\\lvert 1 \\right\\rangle$ with equal probabilities:"
   ]
  },
  {
   "cell_type": "code",
   "execution_count": 8,
   "id": "20b7deff",
   "metadata": {},
   "outputs": [
    {
     "data": {
      "text/plain": [
       "0.5000000000000001"
      ]
     },
     "execution_count": 8,
     "metadata": {},
     "output_type": "execute_result"
    }
   ],
   "source": [
    "circ_had = QCirc.FromString(\"\"\"\n",
    "|\n",
    "H\n",
    "|\n",
    "\"\"\")\n",
    "\n",
    "result_had = DOp.MeldStack(circ_had.simulate(DOp.GroundState(1)))\n",
    "DOp.MeasureProb(result_had, 0, 1)"
   ]
  },
  {
   "cell_type": "markdown",
   "id": "30ed4933",
   "metadata": {},
   "source": [
    "#### 2-Qubit circuits\n",
    "The $CX$-gate (controlled $X$, or controlled NOT) is a 2-qubit gate which inverts the qubit marked with $x$ iff the control qubit marked with $o$ is in the state $\\left\\lvert 1 \\right\\rangle$.\n",
    "Hence, in the following example, the gate acts as the identity, since we start with the ground state. "
   ]
  },
  {
   "cell_type": "code",
   "execution_count": 9,
   "id": "eb8a8d50",
   "metadata": {},
   "outputs": [
    {
     "data": {
      "text/plain": [
       "0.0"
      ]
     },
     "execution_count": 9,
     "metadata": {},
     "output_type": "execute_result"
    }
   ],
   "source": [
    "circ_cx = QCirc.FromString(\"\"\"\n",
    "| |\n",
    "x-o\n",
    "| |\n",
    "\"\"\")\n",
    "\n",
    "result_cx = DOp.MeldStack(circ_cx.simulate(DOp.GroundState(2)))\n",
    "DOp.MeasureProb(result_cx, 0, 1)"
   ]
  },
  {
   "cell_type": "markdown",
   "id": "cbcece9e",
   "metadata": {},
   "source": [
    "If, however, we first invert the control qubit (qubit number 1) then we find that after the simulation, qubit number 0 is in the state $\\left\\lvert 1 \\right\\rangle$:"
   ]
  },
  {
   "cell_type": "code",
   "execution_count": 10,
   "id": "65245375",
   "metadata": {},
   "outputs": [
    {
     "data": {
      "text/plain": [
       "1.0"
      ]
     },
     "execution_count": 10,
     "metadata": {},
     "output_type": "execute_result"
    }
   ],
   "source": [
    "circ_Xcx = QCirc.FromString(\"\"\"\n",
    "| X\n",
    "x-o\n",
    "| |\n",
    "\"\"\")\n",
    "\n",
    "result_Xcx = DOp.MeldStack(circ_Xcx.simulate(DOp.GroundState(2)))\n",
    "DOp.MeasureProb(result_Xcx, 0, 1)"
   ]
  },
  {
   "cell_type": "markdown",
   "id": "badc2821",
   "metadata": {},
   "source": [
    "It is also possible to combine the Hadamard and $CX$-gates to prepare a pair of qubits in a Bell state. "
   ]
  },
  {
   "cell_type": "code",
   "execution_count": 11,
   "id": "9803b59b",
   "metadata": {},
   "outputs": [
    {
     "data": {
      "text/plain": [
       "array([0.70710678, 0.        , 0.        , 0.70710678])"
      ]
     },
     "execution_count": 11,
     "metadata": {},
     "output_type": "execute_result"
    }
   ],
   "source": [
    "circ_bell = QCirc.FromString(\"\"\"\n",
    "| H\n",
    "x-o\n",
    "| |\n",
    "\"\"\")\n",
    "\n",
    "result_bell = DOp.MeldStack(circ_bell.simulate(DOp.GroundState(2)))\n",
    "DOp.StateForm(result_bell)"
   ]
  },
  {
   "cell_type": "markdown",
   "id": "39aadd95",
   "metadata": {},
   "source": [
    "In the example above, the function DOp.StateForm has been used, which attempts to reconstruct a state vector from a density operator. The resulting array is to be interpreted as the list of coefficients for this state vector in the standard basis $$\\left\\{\\left\\lvert 00 \\right\\rangle, \\left\\lvert 01 \\right\\rangle, \\left\\lvert 10 \\right\\rangle, \\left\\lvert 11 \\right\\rangle  \\right\\}.$$\n",
    "More concretely, the output tells us that after the simulation, we find the system in the state $$\\frac{1}{\\sqrt{2}} \\left( \\left\\lvert 00 \\right\\rangle + \\left\\lvert 11 \\right\\rangle \\right).$$\n",
    "\n",
    "#### Measurements\n",
    "Measurement instructions, much like gates, can be part of circuits. The following example prints the output of simulating a measurement performed after passing a single qubit ground state through a Hadamard gate.\n",
    "The resulting stack of density operators has two entries, corresponding to the two possible outcomes of the measurements. We can read off that the probability of each outcome is one half."
   ]
  },
  {
   "cell_type": "code",
   "execution_count": 12,
   "id": "7ac84ad9",
   "metadata": {},
   "outputs": [
    {
     "data": {
      "text/plain": [
       "[(0.5000000000000001,\n",
       "  array([[1.+0.j, 0.+0.j],\n",
       "         [0.+0.j, 0.+0.j]])),\n",
       " (0.5000000000000001,\n",
       "  array([[0.+0.j, 0.+0.j],\n",
       "         [0.+0.j, 1.+0.j]]))]"
      ]
     },
     "execution_count": 12,
     "metadata": {},
     "output_type": "execute_result"
    }
   ],
   "source": [
    "circ_meas = QCirc.FromString(\"\"\"\n",
    "H\n",
    "M\n",
    "\"\"\")\n",
    "\n",
    "circ_meas.simulate(DOp.GroundState(1))"
   ]
  },
  {
   "cell_type": "markdown",
   "id": "d5b48dee",
   "metadata": {},
   "source": [
    "#### Conditional Layers\n",
    "Quantum circuits may contain layers that are only executed if a previous measurement yielded a specific result. In the following example, the layer \"X?0\" will be treated as the layer \"X\" if the 0th measurement result was 1, and as the identity layer \"|\" if it was 0. Accordingly, the final state of the system will always be $\\left\\lvert 0 \\right\\rangle$."
   ]
  },
  {
   "cell_type": "code",
   "execution_count": 13,
   "id": "3cf874be",
   "metadata": {},
   "outputs": [
    {
     "data": {
      "text/plain": [
       "0.0"
      ]
     },
     "execution_count": 13,
     "metadata": {},
     "output_type": "execute_result"
    }
   ],
   "source": [
    "circ_cond = QCirc.FromString(\"\"\"\n",
    "H\n",
    "M\n",
    "X?0\n",
    "\"\"\")\n",
    "\n",
    "result_cond = DOp.MeldStack(circ_cond.simulate(DOp.GroundState(1)))\n",
    "DOp.MeasureProb(result_cond, 0, 1)"
   ]
  },
  {
   "cell_type": "markdown",
   "id": "31507573",
   "metadata": {},
   "source": [
    "#### Qubit Teleportation\n",
    "The Quantum Teleportation algorithm is well-documented. Here, it teleports the state of qubit number 2 into qubit number 0.\n",
    "The two circuits shown demonstrate this for the initial states $\\left\\lvert 0 \\right\\rangle$ and $\\left\\lvert 1 \\right\\rangle$ for qubit number 2."
   ]
  },
  {
   "cell_type": "code",
   "execution_count": 14,
   "id": "28d947b7",
   "metadata": {},
   "outputs": [
    {
     "data": {
      "text/plain": [
       "0.0"
      ]
     },
     "execution_count": 14,
     "metadata": {},
     "output_type": "execute_result"
    }
   ],
   "source": [
    "circ_tp_0 = QCirc.FromString(\"\"\"\n",
    "| H |\n",
    "x-o |\n",
    "| x-o\n",
    "| | H\n",
    "| M M\n",
    "X | |?1\n",
    "Z | |?0\n",
    "\"\"\")\n",
    "\n",
    "circ_tp_1 = QCirc.FromString(\"\"\"\n",
    "| H X\n",
    "x-o |\n",
    "| x-o\n",
    "| | H\n",
    "| M M\n",
    "X | |?1\n",
    "Z | |?0\n",
    "\"\"\")\n",
    "\n",
    "result_tp_0 = DOp.MeldStack(circ_tp_0.simulate(DOp.GroundState(3)))\n",
    "result_tp_1 = DOp.MeldStack(circ_tp_1.simulate(DOp.GroundState(3)))\n",
    "DOp.MeasureProb(result_tp_0,0,1)"
   ]
  },
  {
   "cell_type": "markdown",
   "id": "7d1e9cf8",
   "metadata": {},
   "source": [
    "While the above output demonstrates teleportation of the state $\\left\\lvert 0 \\right\\rangle$, the next output shows teleportation of the state $\\left\\lvert 1 \\right\\rangle$:"
   ]
  },
  {
   "cell_type": "code",
   "execution_count": 15,
   "id": "1c084568",
   "metadata": {},
   "outputs": [
    {
     "data": {
      "text/plain": [
       "1.0000000000000002"
      ]
     },
     "execution_count": 15,
     "metadata": {},
     "output_type": "execute_result"
    }
   ],
   "source": [
    "DOp.MeasureProb(result_tp_1,0,1)"
   ]
  },
  {
   "cell_type": "markdown",
   "id": "ad6f38aa",
   "metadata": {},
   "source": [
    "#### Grover's algorithm\n",
    "Grover's algorithm is a quantum unstructured search algorithm. In the example below, an oracle function for the value 110 (binary) is encoded, and then, Grover's Algorithm is applied in the following layers. \n",
    "The output shows that indeed, 110 is the most probable measurement result of the 3-qubit system after the simulation."
   ]
  },
  {
   "cell_type": "code",
   "execution_count": 16,
   "id": "1cb274d6",
   "metadata": {},
   "outputs": [
    {
     "data": {
      "text/plain": [
       "[0.8750000000000014, 0.8750000000000014, 0.12500000000000025]"
      ]
     },
     "execution_count": 16,
     "metadata": {},
     "output_type": "execute_result"
    }
   ],
   "source": [
    "circ_grover = QCirc.FromString(\"\"\"\n",
    "H H H\n",
    "H | X\n",
    "L-.-.\n",
    "H | X\n",
    "H H H\n",
    "X X X\n",
    "H | |\n",
    "L-.-.\n",
    "H | |\n",
    "X X X\n",
    "H H H\n",
    "\"\"\")\n",
    "\n",
    "result_grover = DOp.MeldStack(circ_grover.simulate(DOp.GroundState(3)))\n",
    "[DOp.MeasureProb(result_grover,0,1), DOp.MeasureProb(result_grover,1,1), DOp.MeasureProb(result_grover,2,1)]"
   ]
  },
  {
   "cell_type": "markdown",
   "id": "395a86df",
   "metadata": {},
   "source": [
    "#### Quantum Adder\n",
    "The quantum adder is a circuit that adds two bits A and B (and possibly, a carried bit from previous addition) together.\n",
    "To perform the addition 1+0, the first layer has to be changed to \"| | X |\", and similarly, to \"| | | X\" for 0+1, and to \"| | X X\" for 1+1. "
   ]
  },
  {
   "cell_type": "code",
   "execution_count": 27,
   "id": "0563346d",
   "metadata": {},
   "outputs": [
    {
     "name": "stdout",
     "output_type": "stream",
     "text": [
      "Sum: 0.0, Carrying: 0.0\n"
     ]
    }
   ],
   "source": [
    "# input: (zero) - (carry) - A - B\n",
    "circ_adder = QCirc.FromString(\"\"\"\n",
    "| | | |\n",
    "L-+-.-.\n",
    "| | x-o\n",
    "L-.-. |\n",
    "| x-o |\n",
    "| | x-o\n",
    "| | | |\n",
    "\"\"\")\n",
    "# output: carry - sum - A - B\n",
    "\n",
    "result_adder = DOp.MeldStack(circ_adder.simulate(DOp.GroundState(4)))\n",
    "print(\"Sum: \" + str(DOp.MeasureProb(result_adder,1,1)) + \", Carrying: \" + str(DOp.MeasureProb(result_adder,0,1)))"
   ]
  },
  {
   "cell_type": "code",
   "execution_count": null,
   "id": "52a0f2aa",
   "metadata": {},
   "outputs": [],
   "source": []
  }
 ],
 "metadata": {
  "kernelspec": {
   "display_name": "Python 3 (ipykernel)",
   "language": "python",
   "name": "python3"
  },
  "language_info": {
   "codemirror_mode": {
    "name": "ipython",
    "version": 3
   },
   "file_extension": ".py",
   "mimetype": "text/x-python",
   "name": "python",
   "nbconvert_exporter": "python",
   "pygments_lexer": "ipython3",
   "version": "3.11.4"
  }
 },
 "nbformat": 4,
 "nbformat_minor": 5
}
